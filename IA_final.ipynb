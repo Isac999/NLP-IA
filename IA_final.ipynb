{
  "cells": [
    {
      "cell_type": "code",
      "execution_count": null,
      "metadata": {
        "colab": {
          "base_uri": "https://localhost:8080/"
        },
        "id": "YYuQBlS8PSjM",
        "outputId": "794e63c0-59f8-4105-ae28-de2cc3f97b10"
      },
      "outputs": [
        {
          "name": "stdout",
          "output_type": "stream",
          "text": [
            "Looking in indexes: https://pypi.org/simple, https://us-python.pkg.dev/colab-wheels/public/simple/\n",
            "Requirement already satisfied: nltk in /usr/local/lib/python3.10/dist-packages (3.8.1)\n",
            "Requirement already satisfied: click in /usr/local/lib/python3.10/dist-packages (from nltk) (8.1.3)\n",
            "Requirement already satisfied: joblib in /usr/local/lib/python3.10/dist-packages (from nltk) (1.2.0)\n",
            "Requirement already satisfied: regex>=2021.8.3 in /usr/local/lib/python3.10/dist-packages (from nltk) (2022.10.31)\n",
            "Requirement already satisfied: tqdm in /usr/local/lib/python3.10/dist-packages (from nltk) (4.65.0)\n"
          ]
        },
        {
          "name": "stderr",
          "output_type": "stream",
          "text": [
            "[nltk_data] Downloading package vader_lexicon to /root/nltk_data...\n",
            "[nltk_data]   Package vader_lexicon is already up-to-date!\n"
          ]
        },
        {
          "data": {
            "text/plain": [
              "True"
            ]
          },
          "execution_count": 17,
          "metadata": {},
          "output_type": "execute_result"
        }
      ],
      "source": [
        "!pip install nltk"
      ]
    },
    {
      "cell_type": "code",
      "execution_count": 1,
      "metadata": {
        "id": "LWabAzAOPWn9"
      },
      "outputs": [],
      "source": [
        "class Model:\n",
        "  def __init__(self, trainingData):\n",
        "    self.setTrainingData(trainingData)\n",
        "    self.learn()\n",
        "\n",
        "  def learn(self):\n",
        "    classifier = NaiveBayesClassifier.train(\n",
        "          [\n",
        "            (self.extractFeatures(text), label) \n",
        "            for (text, label) in self.trainingData\n",
        "          ]\n",
        "        )\n",
        "    \n",
        "    self.classifier = classifier\n",
        "    \n",
        "  def extractFeatures(self, text):\n",
        "    return dict([word, True] for word in text.split())\n",
        "\n",
        "  def classifyText(self, text):\n",
        "    feedback = self.classifier.classify(\n",
        "          self.extractFeatures(text)\n",
        "        )\n",
        "    \n",
        "    return feedback\n",
        "\n",
        "  def setTrainingData(self, trainingData):\n",
        "    self.trainingData = trainingData\n",
        "  \n",
        "  def appendInTrainingData(self, val):\n",
        "    self.trainingData.append(val)"
      ]
    },
    {
      "cell_type": "code",
      "execution_count": 18,
      "metadata": {
        "id": "u7oIP15DUNZb"
      },
      "outputs": [],
      "source": [
        "class Agent:\n",
        "  def __init__(self, model: Model):\n",
        "    self.model = model\n",
        "    self.count = 0\n",
        "    self.correctPredictions = 0\n",
        "\n",
        "  def run(self):\n",
        "    while True:\n",
        "      print('\\n \\n \\n \\n')\n",
        "      text = input('>>> ')\n",
        "      if text == 'sair':\n",
        "        accuracy = (self.correctPredictions / self.count) * 100\n",
        "        print(f\"Acurácia do modelo até agora: {round(accuracy, 2)}%\")\n",
        "        break\n",
        "      \n",
        "      self.count += 1\n",
        "      classified = self.model.classifyText(text)\n",
        "      print('=> ' + self.formatClassification(classified))\n",
        "\n",
        "      if self.getFeedback():\n",
        "        self.model.appendInTrainingData((text, classified))\n",
        "        self.correctPredictions += 1\n",
        "      else:\n",
        "        label = 'negativo' if classified == 'positivo' else 'positivo'\n",
        "        \n",
        "        self.model.appendInTrainingData((text, label))\n",
        "        self.model.learn()\n",
        "\n",
        "  def formatClassification(self, classified):\n",
        "      if classified == \"positivo\":\n",
        "          return \"Feedback Positivo\"\n",
        "      else:\n",
        "          return \"Feedback Negativo\"\n",
        "  \n",
        "  def getFeedback(self):\n",
        "    print(\"Você gostou do resultado do modelo?\")\n",
        "    feedback = input('>>> ')\n",
        "    #clear_output()\n",
        "\n",
        "    if feedback == 'sim':\n",
        "      return True\n",
        "    else:\n",
        "      return False"
      ]
    },
    {
      "cell_type": "code",
      "execution_count": 25,
      "metadata": {
        "id": "cM_GBpvImf_x",
        "colab": {
          "base_uri": "https://localhost:8080/"
        },
        "outputId": "7830a129-f2f4-4abf-e1f9-da86a6935a35"
      },
      "outputs": [
        {
          "output_type": "stream",
          "name": "stdout",
          "text": [
            "\n",
            " \n",
            " \n",
            " \n",
            "\n",
            ">>> Eu estou bem\n",
            "=> Feedback Positivo\n",
            "Você gostou do resultado do modelo?\n",
            ">>> sim\n",
            "\n",
            " \n",
            " \n",
            " \n",
            "\n",
            ">>> Estou descontente\n",
            "=> Feedback Negativo\n",
            "Você gostou do resultado do modelo?\n",
            ">>> sim\n",
            "\n",
            " \n",
            " \n",
            " \n",
            "\n",
            ">>> Hoje o dia está lindo\n",
            "=> Feedback Negativo\n",
            "Você gostou do resultado do modelo?\n",
            ">>> não\n",
            "\n",
            " \n",
            " \n",
            " \n",
            "\n",
            ">>> Hoje o dia está lindo\n",
            "=> Feedback Positivo\n",
            "Você gostou do resultado do modelo?\n",
            ">>> sim\n",
            "\n",
            " \n",
            " \n",
            " \n",
            "\n",
            ">>> sair\n",
            "Acurácia do modelo até agora: 75.0%\n"
          ]
        }
      ],
      "source": [
        "from nltk.classify import NaiveBayesClassifier\n",
        "from IPython.display import clear_output\n",
        "\n",
        "training_data = [\n",
        "    (\"eu adorei isso!\", \"positivo\"),\n",
        "    (\"isso é terrivel!\", \"negativo\"),\n",
        "    (\"isso é uma merda\", \"negativo\"),\n",
        "    (\"não gostei\", \"negativo\"),\n",
        "    (\"odeio\", \"negativo\"),\n",
        "    (\"eu amei isso\", \"positivo\"),\n",
        "    (\"bom agradavel legal interessante gostei bom ótimo feliz alegre agradável maravilhoso incrível excelente fabuloso esplêndido encantador radiante empolgante emocionante adorável animado vibrante divertido fantástico brilhante magnífico espetacular deslumbrante fenomenal encorajador inspirador positivo promissor esperançoso otimista gratificante satisfatório sublime fascinante mágico admirável exuberante notável memorável emocionante surpreendente excepcional encorajador triunfante abençoado glorioso divino celestial radiante empolgante maravilhoso encantador inspirador estimulante festivo festa encantador inspirador estimulante surpreendente brilhante espetacular excepcional inesquecível memorável exuberante agradecido encorajador triunfante espetacular fabuloso fascinante inspirador magnífico positivo notável radiante vibrante esperançoso empolgante emocionante inspirador maravilhoso triunfante excepcional encantador animado deslumbrante satisfatório promissor empolgante fenomenal otimista alegre excelente esplêndido gratificante radiante brilhante inspirador fabuloso emocionante agradável magnífico notável admirável divino celestial bom ótimo feliz fascinante festivo festa encorajador sublime mágico vibrante exuberante inspirador surpreendente alegre positivo esperançoso deslumbrante maravilhoso incrível fantástico encantador espetacular empolgante animado divertido emocionante agradável fabuloso brilhante magnífico excepcional memorável radiante promissor triunfante desejado admirável desejado notável incrível sublime glorioso divino celestial radiante emocionante exuberante surpreendente espetacular empolgante inspirador animado inspirador vibrante positivo gratificante fascinante otimista alegre feliz ótimo bom excelente deslumbrante maravilhoso fantástico magnífico esplêndido encantador fabuloso animado emocionante vibrante divertido festivo festa sublime mágico admirável inspirador encorajador radiante agradável exuberante brilhante positivo promissor esperançoso triunfante deslumbrante surpreendente excepcional fascinante inspirador inspirador memorável\", \"positivo\"),\n",
        "    (\"ruim pessimo triste infeliz decepcionado aborrecido desanimado angustiado insatisfeito chateado desolado desesperado desapontado desgostoso descontente amargurado irritado insuportável lamentável horrível desgraçado inconsolável desesperança infortúnio sombrio melancólico depressivo abatido desalentado derrotado desgosto doloroso angustiante desespero agonia mau negativo fúnebre lúgubre tristonho deprimido depressão deprimente sinistro desafortunado desventurado desolador soturno pesaroso sofrido desditoso desconsolado luto tenebroso tétrico remorso culpa indesejável amargor sofrimento entristecido coração partido desencantado desesperançoso desamparado tristeza desgosto solitário choroso penoso deplorável angústia oprimido melancolia\", \"negativo\"),\n",
        "    (\"bosta merda ruim pessimo triste\", \"negativo\"),\n",
        "    (\"eu estou bem\", \"positivo\"),\n",
        "    (\"que chuva gostosa\", \"positivo\"),\n",
        "]\n",
        "\n",
        "model = Model(training_data)\n",
        "agent = Agent(model)\n",
        "\n",
        "agent.run()"
      ]
    }
  ],
  "metadata": {
    "colab": {
      "provenance": [],
      "authorship_tag": "ABX9TyMkQ3xPkrkLKMxjThWFfFi1"
    },
    "kernelspec": {
      "display_name": "Python 3",
      "name": "python3"
    },
    "language_info": {
      "name": "python"
    }
  },
  "nbformat": 4,
  "nbformat_minor": 0
}